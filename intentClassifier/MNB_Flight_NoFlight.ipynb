{
 "cells": [
  {
   "cell_type": "markdown",
   "metadata": {},
   "source": [
    "# MNB_Flight_NoFlight"
   ]
  },
  {
   "cell_type": "code",
   "execution_count": 1,
   "metadata": {},
   "outputs": [],
   "source": [
    "import pandas as pd\n",
    "import matplotlib.pyplot as plt\n",
    "\n",
    "data = pd.read_csv('train_flight_noflight.csv')\n",
    "data = data[['tokens', 'intent']]\n",
    "data = data.dropna()"
   ]
  },
  {
   "cell_type": "code",
   "execution_count": 2,
   "metadata": {},
   "outputs": [],
   "source": [
    "label = data['intent']"
   ]
  },
  {
   "cell_type": "code",
   "execution_count": 3,
   "metadata": {},
   "outputs": [
    {
     "name": "stdout",
     "output_type": "stream",
     "text": [
      "4576 856 5432\n"
     ]
    }
   ],
   "source": [
    "flightcount, noflightcount=0,0\n",
    "for y in label:\n",
    "    if y=='Flight':\n",
    "        flightcount = flightcount+1\n",
    "    else:\n",
    "        noflightcount=noflightcount+1\n",
    "        \n",
    "print(flightcount, noflightcount, flightcount+noflightcount)"
   ]
  },
  {
   "cell_type": "code",
   "execution_count": 4,
   "metadata": {},
   "outputs": [],
   "source": [
    "n_of_train = int(len(data['tokens']) * 0.8)\n",
    "n_of_test = int(len(data['tokens']) - n_of_train)"
   ]
  },
  {
   "cell_type": "code",
   "execution_count": 5,
   "metadata": {},
   "outputs": [],
   "source": [
    "from sklearn.feature_extraction.text import CountVectorizer # 입력한 텍스트를 자동으로 BoW로 만듦\n",
    "\n",
    "train_data = data['tokens'][0 : n_of_train]\n",
    "train_data_intent = data['intent'][0 : n_of_train]\n",
    "\n",
    "dtmvector = CountVectorizer()\n",
    "X_train_dtm = dtmvector.fit_transform(train_data)"
   ]
  },
  {
   "cell_type": "code",
   "execution_count": 6,
   "metadata": {},
   "outputs": [],
   "source": [
    "from sklearn.feature_extraction.text import TfidfTransformer # TF-IDF를 자동 계산해주는 TfidVectorizer\n",
    "tfidf_transformer = TfidfTransformer()\n",
    "tfidfv = tfidf_transformer.fit_transform(X_train_dtm)"
   ]
  },
  {
   "cell_type": "code",
   "execution_count": 7,
   "metadata": {},
   "outputs": [],
   "source": [
    "from sklearn.naive_bayes import MultinomialNB # 다항분포 나이브 베이즈 모델\n",
    "mod = MultinomialNB()\n",
    "model = mod.fit(tfidfv, train_data_intent) # 출력 결과에서 alpha=1.0은 라플라스 스무딩이 적용되었음을 의미"
   ]
  },
  {
   "cell_type": "code",
   "execution_count": 9,
   "metadata": {},
   "outputs": [],
   "source": [
    "from sklearn.metrics import accuracy_score # 정확도 계산을 위한 함수\n",
    "X_test = data['tokens'][n_of_test : ]\n",
    "y_test = data['intent'][n_of_test : ]\n",
    "\n",
    "X_test_dtm = dtmvector.transform(X_test) # 테스트 데이터를 DTM으로 변환\n",
    "tfidfv_test = tfidf_transformer.transform(X_test_dtm) # DTM을 TF-IDF 행렬로 변환"
   ]
  },
  {
   "cell_type": "code",
   "execution_count": 11,
   "metadata": {
    "scrolled": true
   },
   "outputs": [
    {
     "name": "stdout",
     "output_type": "stream",
     "text": [
      "정확도:  0.9673187571921749\n"
     ]
    }
   ],
   "source": [
    "predicted = mod.predict(tfidfv_test) # 테스트 데이터에 대한 예측\n",
    "print(\"정확도: \", accuracy_score(y_test, predicted)) # 테스트 데이터 예측값과 실제값 비교"
   ]
  },
  {
   "cell_type": "code",
   "execution_count": 12,
   "metadata": {},
   "outputs": [],
   "source": [
    "def predict(sentence):\n",
    "    test_new = [sentence]\n",
    "    test_dtm_new = dtmvector.transform(test_new)\n",
    "    tfidfv_test_new = tfidf_transformer.transform(test_dtm_new)\n",
    "    \n",
    "    predicted_new = mod.predict(tfidfv_test_new)\n",
    "    \n",
    "    return predicted_new"
   ]
  },
  {
   "cell_type": "code",
   "execution_count": 18,
   "metadata": {},
   "outputs": [
    {
     "name": "stdout",
     "output_type": "stream",
     "text": [
      "              precision    recall  f1-score   support\n",
      "\n",
      "      Flight       0.97      1.00      0.98      3671\n",
      "    NoFlight       0.98      0.80      0.88       674\n",
      "\n",
      "    accuracy                           0.97      4345\n",
      "   macro avg       0.97      0.90      0.93      4345\n",
      "weighted avg       0.97      0.97      0.97      4345\n",
      "\n"
     ]
    }
   ],
   "source": [
    "from sklearn.metrics import classification_report\n",
    "from sklearn.metrics import accuracy_score\n",
    "\n",
    "y_true = y_test\n",
    "y_pred = mod.predict(tfidfv_test)\n",
    "\n",
    "print(classification_report(y_true, y_pred, target_names = ['Flight', 'NoFlight']))"
   ]
  },
  {
   "cell_type": "code",
   "execution_count": null,
   "metadata": {},
   "outputs": [],
   "source": [
    "\"\"\"\n",
    "import pickle\n",
    "\n",
    "filename = 'MNB_model_1.sav'\n",
    "pickle.dump(model, open(filename, 'wb'))\n",
    "pickle.dump(dtmvector, open('dtmvector_1', 'wb'))\n",
    "pickle.dump(tfidf_transformer, open('tfidf_transformer_1', 'wb'))\n",
    "\"\"\""
   ]
  },
  {
   "cell_type": "code",
   "execution_count": null,
   "metadata": {},
   "outputs": [],
   "source": [
    "print(predict('new york arriving san farncisco'))\n",
    "print(predict('on delta'))\n",
    "print(predict('fare'))\n",
    "print(predict('what type of aircraft'))\n",
    "print(predict('all airport'))\n",
    "\n",
    "print(predict('from new york to san francisco one way fare'))\n",
    "print(predict('what ground transportation is available in san francisco'))"
   ]
  },
  {
   "cell_type": "code",
   "execution_count": null,
   "metadata": {},
   "outputs": [],
   "source": []
  }
 ],
 "metadata": {
  "kernelspec": {
   "display_name": "Python 3",
   "language": "python",
   "name": "python3"
  },
  "language_info": {
   "codemirror_mode": {
    "name": "ipython",
    "version": 3
   },
   "file_extension": ".py",
   "mimetype": "text/x-python",
   "name": "python",
   "nbconvert_exporter": "python",
   "pygments_lexer": "ipython3",
   "version": "3.6.1"
  }
 },
 "nbformat": 4,
 "nbformat_minor": 2
}
