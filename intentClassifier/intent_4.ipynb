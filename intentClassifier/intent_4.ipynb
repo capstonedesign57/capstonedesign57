{
 "cells": [
  {
   "cell_type": "markdown",
   "metadata": {},
   "source": [
    "# Intent_4"
   ]
  },
  {
   "cell_type": "code",
   "execution_count": 14,
   "metadata": {},
   "outputs": [],
   "source": [
    "import nltk\n",
    "from nltk import word_tokenize\n",
    "\n",
    "\"\"\"def intent(lst):\n",
    "    y = [0 for i in range(1)]\n",
    "    for element in word_tokenize(lst) :\n",
    "        if element.lower() == \"askflight\" :\n",
    "            y[0] = 0\n",
    "        elif element.lower() == \"askflight, askflightwithcost\" :\n",
    "            y[0] = 1\n",
    "        elif element.lower() == \"askflight, askflightwithairline\" :\n",
    "            y[0] = 2\n",
    "        else : # element.lower() == \"askflight, askflightwithcost, askflightwithairline\"\n",
    "            y[0] = 3\n",
    "    return y\"\"\"\n",
    "\n",
    "def intent(lst):\n",
    "    if lst.lower() == \"askflight\" :\n",
    "        y = 0\n",
    "    elif lst.lower() == \"askflight, askflightwithcost\" :\n",
    "        y = 1\n",
    "    elif lst.lower() == \"askflight, askflightwithairline\" :\n",
    "        y = 2\n",
    "    else : # element.lower() in \"askflight, askflightwithcost, askflightwithairline\"\n",
    "        y = 3\n",
    "    return y"
   ]
  }
 ],
 "metadata": {
  "kernelspec": {
   "display_name": "Python 3",
   "language": "python",
   "name": "python3"
  },
  "language_info": {
   "codemirror_mode": {
    "name": "ipython",
    "version": 3
   },
   "file_extension": ".py",
   "mimetype": "text/x-python",
   "name": "python",
   "nbconvert_exporter": "python",
   "pygments_lexer": "ipython3",
   "version": "3.6.1"
  }
 },
 "nbformat": 4,
 "nbformat_minor": 2
}
