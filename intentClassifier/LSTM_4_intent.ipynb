{
 "cells": [
  {
   "cell_type": "markdown",
   "metadata": {},
   "source": [
    "# LSTM_4_Intent"
   ]
  },
  {
   "cell_type": "code",
   "execution_count": 1,
   "metadata": {},
   "outputs": [
    {
     "name": "stderr",
     "output_type": "stream",
     "text": [
      "c:\\users\\yunja_kuj61s9\\appdata\\local\\programs\\python\\python36\\lib\\site-packages\\smart_open\\smart_open_lib.py:398: UserWarning: This function is deprecated, use smart_open.open instead. See the migration notes for details: https://github.com/RaRe-Technologies/smart_open/blob/master/README.rst#migrating-to-the-new-open-function\n",
      "  'See the migration notes for details: %s' % _MIGRATION_NOTES_URL\n"
     ]
    }
   ],
   "source": [
    "from gensim.models import FastText\n",
    "\n",
    "model = FastText.load('fasttext_model')\n",
    "fasttext = model.wv"
   ]
  },
  {
   "cell_type": "code",
   "execution_count": 2,
   "metadata": {},
   "outputs": [],
   "source": [
    "import numpy as np\n",
    "import pandas as pd\n",
    "import matplotlib.pyplot as plt\n",
    "\n",
    "data = pd.read_csv('training_4_intent.csv')\n",
    "data = data[['tokens', 'intent']]\n",
    "\n",
    "X_data = data['tokens']\n",
    "y_data = data['intent']"
   ]
  },
  {
   "cell_type": "code",
   "execution_count": 3,
   "metadata": {},
   "outputs": [
    {
     "data": {
      "text/plain": [
       "AskFlight                                             600\n",
       "AskFlight, AskFlightWithAirline                       600\n",
       "AskFlight, AskFlightWithCost, AskFlightWithAirline    600\n",
       "AskFlight, AskFlightWithCost                          600\n",
       "Name: intent, dtype: int64"
      ]
     },
     "execution_count": 3,
     "metadata": {},
     "output_type": "execute_result"
    },
    {
     "data": {
      "image/png": "[encoded data removed]",
      "text/plain": [
       "<Figure size 432x288 with 1 Axes>"
      ]
     },
     "metadata": {
      "needs_background": "light"
     },
     "output_type": "display_data"
    }
   ],
   "source": [
    "%matplotlib inline\n",
    "\n",
    "pd.value_counts(data['intent']).plot.bar()\n",
    "plt.title('histogram')\n",
    "plt.xlabel('intent')\n",
    "plt.ylabel('Frequency')\n",
    "\n",
    "data['intent'].value_counts()"
   ]
  },
  {
   "cell_type": "code",
   "execution_count": 4,
   "metadata": {},
   "outputs": [
    {
     "name": "stdout",
     "output_type": "stream",
     "text": [
      "importing Jupyter notebook from intent_4.ipynb\n"
     ]
    }
   ],
   "source": [
    "from nltk import sent_tokenize, word_tokenize\n",
    "import import_ipynb\n",
    "import intent_4 # AskFlight, AskFlight/AskFlightWithCost, AskFlight/AskFlightWithAirline\n",
    "                # AskFlight, AskFlightWithCost, AskFlightWithAirline(AskAll)\n",
    "\n",
    "tokenized_X = [] # 토큰화한 문장 (단어, 단어, 단어, ...)\n",
    "for line in X_data :\n",
    "    tokenized_X.append(word_tokenize(line))\n",
    "\n",
    "vectored_X = [] # 토큰화한 문장을 벡터로\n",
    "for sent in tokenized_X :\n",
    "    vectored_X.append([fasttext[v].tolist() for v in sent])\n",
    "\n",
    "vectored_y = []\n",
    "for index in y_data : \n",
    "    vectored_y.append(intent_4.intent(index))"
   ]
  },
  {
   "cell_type": "code",
   "execution_count": 5,
   "metadata": {},
   "outputs": [
    {
     "name": "stdout",
     "output_type": "stream",
     "text": [
      "Shape of X: (2400,)\n",
      "Shape of y: (2400,)\n"
     ]
    }
   ],
   "source": [
    "X = np.array(vectored_X)\n",
    "y = np.array(vectored_y)\n",
    "\n",
    "print('Shape of X: {}'.format(X.shape))\n",
    "print('Shape of y: {}'.format(y.shape))"
   ]
  },
  {
   "cell_type": "code",
   "execution_count": 11,
   "metadata": {},
   "outputs": [],
   "source": [
    "from keras.preprocessing.sequence import pad_sequences\n",
    "from keras import backend as k\n",
    "\n",
    "_dtype = k.floatx()\n",
    "max_len = 45\n",
    "data = pad_sequences(X, maxlen = max_len, dtype = _dtype)"
   ]
  },
  {
   "cell_type": "code",
   "execution_count": 12,
   "metadata": {},
   "outputs": [
    {
     "data": {
      "text/plain": [
       "45"
      ]
     },
     "execution_count": 12,
     "metadata": {},
     "output_type": "execute_result"
    }
   ],
   "source": [
    "max_len"
   ]
  },
  {
   "cell_type": "code",
   "execution_count": 13,
   "metadata": {},
   "outputs": [],
   "source": [
    "n_of_train = int(len(X_data) * 0.85)\n",
    "n_of_test = int(len(X_data) - n_of_train)"
   ]
  },
  {
   "cell_type": "code",
   "execution_count": 14,
   "metadata": {
    "scrolled": true
   },
   "outputs": [
    {
     "name": "stdout",
     "output_type": "stream",
     "text": [
      "(2040, 45, 300) (2040,) (360, 45, 300) (360,)\n"
     ]
    }
   ],
   "source": [
    "X_train = data[ : n_of_train]\n",
    "y_train = y[ : n_of_train]\n",
    "X_test = data[n_of_train : ]\n",
    "y_test = y[n_of_train : ]\n",
    "\n",
    "print(X_train.shape, y_train.shape, X_test.shape, y_test.shape)"
   ]
  },
  {
   "cell_type": "markdown",
   "metadata": {},
   "source": [
    "# RNN 학습시키는 부분"
   ]
  },
  {
   "cell_type": "code",
   "execution_count": 15,
   "metadata": {
    "scrolled": false
   },
   "outputs": [
    {
     "name": "stdout",
     "output_type": "stream",
     "text": [
      "Epoch 1/50\n",
      "2040/2040 [==============================] - 4s 2ms/step - loss: 1.1437 - acc: 0.5260\n",
      "Epoch 2/50\n",
      "2040/2040 [==============================] - 3s 1ms/step - loss: 0.4623 - acc: 0.8618\n",
      "Epoch 3/50\n",
      "2040/2040 [==============================] - 3s 1ms/step - loss: 0.2116 - acc: 0.9417\n",
      "Epoch 4/50\n",
      "2040/2040 [==============================] - 3s 1ms/step - loss: 0.1431 - acc: 0.9676\n",
      "Epoch 5/50\n",
      "2040/2040 [==============================] - 3s 1ms/step - loss: 0.0986 - acc: 0.9779\n",
      "Epoch 6/50\n",
      "2040/2040 [==============================] - 3s 1ms/step - loss: 0.0904 - acc: 0.9794\n",
      "Epoch 7/50\n",
      "2040/2040 [==============================] - 3s 1ms/step - loss: 0.0700 - acc: 0.9858\n",
      "Epoch 8/50\n",
      "2040/2040 [==============================] - 3s 1ms/step - loss: 0.0618 - acc: 0.9877\n",
      "Epoch 9/50\n",
      "2040/2040 [==============================] - 3s 1ms/step - loss: 0.0518 - acc: 0.9892\n",
      "Epoch 10/50\n",
      "2040/2040 [==============================] - 3s 1ms/step - loss: 0.0411 - acc: 0.9907\n",
      "Epoch 11/50\n",
      "2040/2040 [==============================] - 3s 1ms/step - loss: 0.0337 - acc: 0.9946\n",
      "Epoch 12/50\n",
      "2040/2040 [==============================] - 3s 1ms/step - loss: 0.0297 - acc: 0.9951\n",
      "Epoch 13/50\n",
      "2040/2040 [==============================] - 3s 1ms/step - loss: 0.0308 - acc: 0.9946\n",
      "Epoch 14/50\n",
      "2040/2040 [==============================] - 3s 1ms/step - loss: 0.0287 - acc: 0.9946\n",
      "Epoch 15/50\n",
      "2040/2040 [==============================] - 3s 1ms/step - loss: 0.0258 - acc: 0.9941\n",
      "Epoch 16/50\n",
      "2040/2040 [==============================] - 3s 1ms/step - loss: 0.0440 - acc: 0.9877\n",
      "Epoch 17/50\n",
      "2040/2040 [==============================] - 3s 1ms/step - loss: 0.0280 - acc: 0.9956\n",
      "Epoch 18/50\n",
      "2040/2040 [==============================] - 3s 1ms/step - loss: 0.0223 - acc: 0.9946\n",
      "Epoch 19/50\n",
      "2040/2040 [==============================] - 3s 1ms/step - loss: 0.0305 - acc: 0.9936\n",
      "Epoch 20/50\n",
      "2040/2040 [==============================] - 3s 1ms/step - loss: 0.0147 - acc: 0.9985\n",
      "Epoch 21/50\n",
      "2040/2040 [==============================] - 3s 1ms/step - loss: 0.0123 - acc: 0.9985\n",
      "Epoch 22/50\n",
      "2040/2040 [==============================] - 3s 1ms/step - loss: 0.0106 - acc: 0.9990\n",
      "Epoch 23/50\n",
      "2040/2040 [==============================] - 2s 1ms/step - loss: 0.0096 - acc: 0.9990A: 1s - los\n",
      "Epoch 24/50\n",
      "2040/2040 [==============================] - 2s 1ms/step - loss: 0.0091 - acc: 0.9990\n",
      "Epoch 25/50\n",
      "2040/2040 [==============================] - 2s 1ms/step - loss: 0.0081 - acc: 0.9990\n",
      "Epoch 26/50\n",
      "2040/2040 [==============================] - 2s 1ms/step - loss: 0.0076 - acc: 0.9990\n",
      "Epoch 27/50\n",
      "2040/2040 [==============================] - 2s 1ms/step - loss: 0.0071 - acc: 0.9990\n",
      "Epoch 28/50\n",
      "2040/2040 [==============================] - 2s 1ms/step - loss: 0.0067 - acc: 0.9990\n",
      "Epoch 29/50\n",
      "2040/2040 [==============================] - 2s 1ms/step - loss: 0.0062 - acc: 0.9990\n",
      "Epoch 30/50\n",
      "2040/2040 [==============================] - 2s 1ms/step - loss: 0.0060 - acc: 0.9990\n",
      "Epoch 31/50\n",
      "2040/2040 [==============================] - 3s 1ms/step - loss: 0.0057 - acc: 0.9990\n",
      "Epoch 32/50\n",
      "2040/2040 [==============================] - 3s 1ms/step - loss: 0.0053 - acc: 0.9990\n",
      "Epoch 33/50\n",
      "2040/2040 [==============================] - 3s 1ms/step - loss: 0.0050 - acc: 0.9995\n",
      "Epoch 34/50\n",
      "2040/2040 [==============================] - 3s 1ms/step - loss: 0.0049 - acc: 0.9995\n",
      "Epoch 35/50\n",
      "2040/2040 [==============================] - 3s 1ms/step - loss: 0.0046 - acc: 0.9995\n",
      "Epoch 36/50\n",
      "2040/2040 [==============================] - 3s 1ms/step - loss: 0.0045 - acc: 0.9995\n",
      "Epoch 37/50\n",
      "2040/2040 [==============================] - 3s 1ms/step - loss: 0.0043 - acc: 0.9995\n",
      "Epoch 38/50\n",
      "2040/2040 [==============================] - 2s 1ms/step - loss: 0.0040 - acc: 0.9995\n",
      "Epoch 39/50\n",
      "2040/2040 [==============================] - 3s 1ms/step - loss: 0.0037 - acc: 0.9995\n",
      "Epoch 40/50\n",
      "2040/2040 [==============================] - 2s 1ms/step - loss: 0.0035 - acc: 0.9995\n",
      "Epoch 41/50\n",
      "2040/2040 [==============================] - 2s 1ms/step - loss: 0.0034 - acc: 0.9995\n",
      "Epoch 42/50\n",
      "2040/2040 [==============================] - 2s 1ms/step - loss: 0.0031 - acc: 0.9995A: 0s - loss: 0.0033 - ac\n",
      "Epoch 43/50\n",
      "2040/2040 [==============================] - 3s 1ms/step - loss: 0.0026 - acc: 0.9995\n",
      "Epoch 44/50\n",
      "2040/2040 [==============================] - 3s 1ms/step - loss: 0.0026 - acc: 0.9995\n",
      "Epoch 45/50\n",
      "2040/2040 [==============================] - 5s 2ms/step - loss: 0.0022 - acc: 0.9995\n",
      "Epoch 46/50\n",
      "2040/2040 [==============================] - 3s 1ms/step - loss: 0.0016 - acc: 1.0000\n",
      "Epoch 47/50\n",
      "2040/2040 [==============================] - 3s 1ms/step - loss: 0.0014 - acc: 1.0000\n",
      "Epoch 48/50\n",
      "2040/2040 [==============================] - 3s 1ms/step - loss: 0.0013 - acc: 1.0000\n",
      "Epoch 49/50\n",
      "2040/2040 [==============================] - 2s 1ms/step - loss: 0.0012 - acc: 1.0000A: 0s - loss: 0.0012 - acc\n",
      "Epoch 50/50\n",
      "2040/2040 [==============================] - 2s 1ms/step - loss: 0.0011 - acc: 1.0000\n",
      "_________________________________________________________________\n",
      "Layer (type)                 Output Shape              Param #   \n",
      "=================================================================\n",
      "lstm_2 (LSTM)                (None, 30)                39720     \n",
      "_________________________________________________________________\n",
      "dense_2 (Dense)              (None, 4)                 124       \n",
      "=================================================================\n",
      "Total params: 39,844\n",
      "Trainable params: 39,844\n",
      "Non-trainable params: 0\n",
      "_________________________________________________________________\n",
      "None\n"
     ]
    }
   ],
   "source": [
    "from keras.layers import LSTM, Embedding, Dense\n",
    "from keras.models import Sequential\n",
    "\n",
    "model = Sequential()\n",
    "model.add(LSTM(30, activation='tanh'))\n",
    "model.add(Dense(4, activation = 'softmax')) # 출력층\n",
    "model.compile(loss = 'sparse_categorical_crossentropy', optimizer = 'adam', metrics = ['accuracy'])\n",
    "history = model.fit(X_train, y_train, batch_size = 42, epochs = 50)\n",
    "# batch_size는 한 번에 학습하는 데이터의 개수\n",
    "\n",
    "print(model.summary())"
   ]
  },
  {
   "cell_type": "code",
   "execution_count": 16,
   "metadata": {},
   "outputs": [
    {
     "name": "stdout",
     "output_type": "stream",
     "text": [
      "                                                    precision    recall  f1-score   support\n",
      "\n",
      "                                         AskFlight       0.93      0.96      0.95        90\n",
      "                      AskFlight, AskFlightWithCost       0.76      0.97      0.85        90\n",
      "                   AskFlight, AskFlightWithAirline       0.77      0.96      0.85        90\n",
      "AskFlight, AskFlightWithCost, AskFlightWithAirline       0.95      0.44      0.61        90\n",
      "\n",
      "                                          accuracy                           0.83       360\n",
      "                                         macro avg       0.85      0.83      0.81       360\n",
      "                                      weighted avg       0.85      0.83      0.81       360\n",
      "\n"
     ]
    }
   ],
   "source": [
    "from sklearn.metrics import classification_report\n",
    "from sklearn.metrics import accuracy_score\n",
    "\n",
    "y_true = y_test\n",
    "y_pred = model.predict_classes(X_test, verbose = 0)\n",
    "\n",
    "print(classification_report(y_true, y_pred, \n",
    "                            target_names = ['AskFlight', 'AskFlight, AskFlightWithCost',\n",
    "                                            'AskFlight, AskFlightWithAirline', \n",
    "                                            'AskFlight, AskFlightWithCost, AskFlightWithAirline']))"
   ]
  },
  {
   "cell_type": "code",
   "execution_count": 17,
   "metadata": {},
   "outputs": [],
   "source": [
    "def ans(lst) :\n",
    "    ans = [\"AskFlight\", \"AskFlight, AskFlightWithCost\", \n",
    "           \"AskFlight, AskFlightWithAirline\", \"AskFlight, AskFlightWithCost, AskFlightWithAirline\"]\n",
    "    temp = [[i, lst[i]] for i in range(4)]\n",
    "    temp.sort(key = lambda x : x[1], reverse = True)\n",
    "\n",
    "    print(ans[temp[0][0]])"
   ]
  },
  {
   "cell_type": "code",
   "execution_count": 18,
   "metadata": {},
   "outputs": [],
   "source": [
    "from keras.preprocessing import sequence\n",
    "\n",
    "def predict(sentence) :\n",
    "    sentence = sentence\n",
    "    sentence_token = []\n",
    "    sentence_token += word_tokenize(sentence)\n",
    "    \n",
    "    sentence_vec = []\n",
    "    sentence_vec.append([fasttext[v] for v in sentence_token])\n",
    "    \n",
    "    padd = sequence.pad_sequences(sentence_vec, maxlen = max_len, dtype = _dtype)\n",
    "    intent = ans(model.predict(padd)[0])\n",
    "    \n",
    "    return(intent)"
   ]
  },
  {
   "cell_type": "code",
   "execution_count": 19,
   "metadata": {},
   "outputs": [],
   "source": [
    "from keras.models import *\n",
    "from keras.utils import *\n",
    "\n",
    "model.save('LSTM_model.h5')"
   ]
  },
  {
   "cell_type": "code",
   "execution_count": 20,
   "metadata": {
    "scrolled": true
   },
   "outputs": [
    {
     "name": "stdout",
     "output_type": "stream",
     "text": [
      "AskFlight\n",
      "AskFlight, AskFlightWithCost\n",
      "AskFlight, AskFlightWithCost, AskFlightWithAirline\n",
      "AskFlight, AskFlightWithCost\n",
      "AskFlight\n",
      "AskFlight, AskFlightWithCost, AskFlightWithAirline\n",
      "AskFlight, AskFlightWithCost\n"
     ]
    }
   ],
   "source": [
    "# 임의 지정한 문장으로 의도 예측 테스트\n",
    "\n",
    "predict('from la to san francisco') # AskFlight\n",
    "predict('cheapest one from miami to denver') # AskFlight, AskFlightWithCost\n",
    "predict('cheapest from denver to philadelphia on monday by delta') # AskFlight, AskFlightWithCost, AskFlightWithAirline\n",
    "predict('denver to philadelphia under 100 dollars') # AskFlight, AskFlightWithCost\n",
    "predict('flight from miami to denver on monday') # AskFlight\n",
    "predict('one way fare from miami to denver on delta') # AskFlight, AskFlightWithCost, AskFlightWithAirline\n",
    "predict('flight from incheon to jeju on monday under 50 dollars') # AskFlight, AskFlightWithCost"
   ]
  },
  {
   "cell_type": "code",
   "execution_count": null,
   "metadata": {},
   "outputs": [],
   "source": []
  }
 ],
 "metadata": {
  "kernelspec": {
   "display_name": "Python 3",
   "language": "python",
   "name": "python3"
  },
  "language_info": {
   "codemirror_mode": {
    "name": "ipython",
    "version": 3
   },
   "file_extension": ".py",
   "mimetype": "text/x-python",
   "name": "python",
   "nbconvert_exporter": "python",
   "pygments_lexer": "ipython3",
   "version": "3.6.1"
  }
 },
 "nbformat": 4,
 "nbformat_minor": 2
}
