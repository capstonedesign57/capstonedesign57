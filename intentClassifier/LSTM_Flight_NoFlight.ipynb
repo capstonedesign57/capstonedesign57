{
 "cells": [
  {
   "cell_type": "markdown",
   "metadata": {},
   "source": [
    "# LSTM_Flight_NoFlight"
   ]
  },
  {
   "cell_type": "code",
   "execution_count": 1,
   "metadata": {},
   "outputs": [
    {
     "name": "stderr",
     "output_type": "stream",
     "text": [
      "c:\\users\\yunja_kuj61s9\\appdata\\local\\programs\\python\\python36\\lib\\site-packages\\smart_open\\smart_open_lib.py:398: UserWarning: This function is deprecated, use smart_open.open instead. See the migration notes for details: https://github.com/RaRe-Technologies/smart_open/blob/master/README.rst#migrating-to-the-new-open-function\n",
      "  'See the migration notes for details: %s' % _MIGRATION_NOTES_URL\n"
     ]
    }
   ],
   "source": [
    "from gensim.models import FastText\n",
    "\n",
    "model = FastText.load('fasttext_model')\n",
    "fasttext = model.wv"
   ]
  },
  {
   "cell_type": "code",
   "execution_count": 2,
   "metadata": {},
   "outputs": [],
   "source": [
    "import numpy as np\n",
    "import pandas as pd\n",
    "\n",
    "data = pd.read_csv('lstm_train_flight_noflight_1.csv')\n",
    "data = data[['tokens', 'intent']]\n",
    "\n",
    "X_data = data['tokens']\n",
    "y_data = data['intent']"
   ]
  },
  {
   "cell_type": "code",
   "execution_count": 3,
   "metadata": {},
   "outputs": [
    {
     "data": {
      "text/plain": [
       "Flight      4662\n",
       "NoFlight     868\n",
       "Name: intent, dtype: int64"
      ]
     },
     "execution_count": 3,
     "metadata": {},
     "output_type": "execute_result"
    },
    {
     "data": {
      "image/png": "[encoded data removed]",
      "text/plain": [
       "<Figure size 432x288 with 1 Axes>"
      ]
     },
     "metadata": {
      "needs_background": "light"
     },
     "output_type": "display_data"
    }
   ],
   "source": [
    "import matplotlib.pyplot as plt\n",
    "\n",
    "%matplotlib inline\n",
    "\n",
    "pd.value_counts(data['intent']).plot.bar()\n",
    "plt.title('histogram')\n",
    "plt.xlabel('intent')\n",
    "plt.ylabel('Frequency')\n",
    "\n",
    "data['intent'].value_counts()"
   ]
  },
  {
   "cell_type": "code",
   "execution_count": 4,
   "metadata": {},
   "outputs": [
    {
     "name": "stdout",
     "output_type": "stream",
     "text": [
      "Shape of X: (5530,)\n",
      "Shape of y: (5530,)\n"
     ]
    }
   ],
   "source": [
    "from nltk import sent_tokenize, word_tokenize\n",
    "import bool_intent\n",
    "\n",
    "tokenized_X = [] # 토큰화한 문장 (단어, 단어, 단어, ...)\n",
    "for line in X_data :\n",
    "    tokenized_X.append(word_tokenize(line))\n",
    "\n",
    "vectored_X = [] # 토큰화한 문장을 벡터로\n",
    "for sent in tokenized_X :\n",
    "    vectored_X.append([fasttext[v].tolist() for v in sent])\n",
    "    \n",
    "vectored_y = []\n",
    "for index in y_data : \n",
    "    vectored_y.append(bool_intent.intent(index))\n",
    "    \n",
    "X = np.array(vectored_X)\n",
    "y = np.array(vectored_y)\n",
    "\n",
    "print('Shape of X: {}'.format(X.shape))\n",
    "print('Shape of y: {}'.format(y.shape))"
   ]
  },
  {
   "cell_type": "code",
   "execution_count": 5,
   "metadata": {},
   "outputs": [
    {
     "name": "stderr",
     "output_type": "stream",
     "text": [
      "Using TensorFlow backend.\n"
     ]
    }
   ],
   "source": [
    "from keras.preprocessing.sequence import pad_sequences\n",
    "from keras import backend as k\n",
    "\n",
    "_dtype = k.floatx()\n",
    "max_len = 45 # token의 최대 길이\n",
    "data = pad_sequences(X, maxlen = max_len, dtype = _dtype)"
   ]
  },
  {
   "cell_type": "code",
   "execution_count": 6,
   "metadata": {},
   "outputs": [
    {
     "data": {
      "text/plain": [
       "45"
      ]
     },
     "execution_count": 6,
     "metadata": {},
     "output_type": "execute_result"
    }
   ],
   "source": [
    "max_len"
   ]
  },
  {
   "cell_type": "code",
   "execution_count": 7,
   "metadata": {},
   "outputs": [],
   "source": [
    "n_of_train = int(len(X_data) * 0.8)\n",
    "n_of_test = int(len(X_data) - n_of_train)"
   ]
  },
  {
   "cell_type": "code",
   "execution_count": 8,
   "metadata": {},
   "outputs": [],
   "source": [
    "X_train = data[ : n_of_train]\n",
    "y_train = y[ : n_of_train]\n",
    "X_test = data[n_of_train : ]\n",
    "y_test = y[n_of_train : ]"
   ]
  },
  {
   "cell_type": "markdown",
   "metadata": {},
   "source": [
    "# RNN 학습시키는 부분"
   ]
  },
  {
   "cell_type": "code",
   "execution_count": 9,
   "metadata": {},
   "outputs": [
    {
     "name": "stderr",
     "output_type": "stream",
     "text": [
      "WARNING: Logging before flag parsing goes to stderr.\n",
      "W1114 12:17:35.308280 15764 deprecation_wrapper.py:119] From c:\\users\\yunja_kuj61s9\\appdata\\local\\programs\\python\\python36\\lib\\site-packages\\keras\\backend\\tensorflow_backend.py:74: The name tf.get_default_graph is deprecated. Please use tf.compat.v1.get_default_graph instead.\n",
      "\n",
      "W1114 12:17:36.605023 15764 deprecation_wrapper.py:119] From c:\\users\\yunja_kuj61s9\\appdata\\local\\programs\\python\\python36\\lib\\site-packages\\keras\\optimizers.py:790: The name tf.train.Optimizer is deprecated. Please use tf.compat.v1.train.Optimizer instead.\n",
      "\n",
      "W1114 12:17:36.652005 15764 deprecation_wrapper.py:119] From c:\\users\\yunja_kuj61s9\\appdata\\local\\programs\\python\\python36\\lib\\site-packages\\keras\\backend\\tensorflow_backend.py:517: The name tf.placeholder is deprecated. Please use tf.compat.v1.placeholder instead.\n",
      "\n",
      "W1114 12:17:36.661968 15764 deprecation_wrapper.py:119] From c:\\users\\yunja_kuj61s9\\appdata\\local\\programs\\python\\python36\\lib\\site-packages\\keras\\backend\\tensorflow_backend.py:4138: The name tf.random_uniform is deprecated. Please use tf.random.uniform instead.\n",
      "\n",
      "W1114 12:17:37.214010 15764 deprecation_wrapper.py:119] From c:\\users\\yunja_kuj61s9\\appdata\\local\\programs\\python\\python36\\lib\\site-packages\\keras\\backend\\tensorflow_backend.py:3341: The name tf.log is deprecated. Please use tf.math.log instead.\n",
      "\n",
      "W1114 12:17:37.502586 15764 deprecation.py:323] From c:\\users\\yunja_kuj61s9\\appdata\\local\\programs\\python\\python36\\lib\\site-packages\\tensorflow\\python\\ops\\math_grad.py:1250: add_dispatch_support.<locals>.wrapper (from tensorflow.python.ops.array_ops) is deprecated and will be removed in a future version.\n",
      "Instructions for updating:\n",
      "Use tf.where in 2.0, which has the same broadcast rule as np.where\n",
      "W1114 12:17:38.761717 15764 deprecation_wrapper.py:119] From c:\\users\\yunja_kuj61s9\\appdata\\local\\programs\\python\\python36\\lib\\site-packages\\keras\\backend\\tensorflow_backend.py:986: The name tf.assign_add is deprecated. Please use tf.compat.v1.assign_add instead.\n",
      "\n"
     ]
    },
    {
     "name": "stdout",
     "output_type": "stream",
     "text": [
      "Train on 3539 samples, validate on 885 samples\n",
      "Epoch 1/20\n",
      "3539/3539 [==============================] - 7s 2ms/step - loss: 0.3322 - acc: 0.8630 - val_loss: 0.1606 - val_acc: 0.9401\n",
      "Epoch 2/20\n",
      "3539/3539 [==============================] - 5s 1ms/step - loss: 0.1136 - acc: 0.9587 - val_loss: 0.0823 - val_acc: 0.9706\n",
      "Epoch 3/20\n",
      "3539/3539 [==============================] - 5s 1ms/step - loss: 0.0598 - acc: 0.9797 - val_loss: 0.0691 - val_acc: 0.9718\n",
      "Epoch 4/20\n",
      "3539/3539 [==============================] - 5s 1ms/step - loss: 0.0454 - acc: 0.9850 - val_loss: 0.0843 - val_acc: 0.9638\n",
      "Epoch 5/20\n",
      "3539/3539 [==============================] - 5s 1ms/step - loss: 0.0473 - acc: 0.9836 - val_loss: 0.0571 - val_acc: 0.9740\n",
      "Epoch 6/20\n",
      "3539/3539 [==============================] - 5s 1ms/step - loss: 0.0327 - acc: 0.9907 - val_loss: 0.0731 - val_acc: 0.9740\n",
      "Epoch 7/20\n",
      "3539/3539 [==============================] - 5s 1ms/step - loss: 0.0305 - acc: 0.9910 - val_loss: 0.0551 - val_acc: 0.9751\n",
      "Epoch 8/20\n",
      "3539/3539 [==============================] - 5s 1ms/step - loss: 0.0302 - acc: 0.9904 - val_loss: 0.0491 - val_acc: 0.9774\n",
      "Epoch 9/20\n",
      "3539/3539 [==============================] - 5s 1ms/step - loss: 0.0278 - acc: 0.9898 - val_loss: 0.0467 - val_acc: 0.9842\n",
      "Epoch 10/20\n",
      "3539/3539 [==============================] - 5s 1ms/step - loss: 0.0225 - acc: 0.9915 - val_loss: 0.0600 - val_acc: 0.9774\n",
      "Epoch 11/20\n",
      "3539/3539 [==============================] - 5s 1ms/step - loss: 0.0179 - acc: 0.9932 - val_loss: 0.0645 - val_acc: 0.9763\n",
      "Epoch 12/20\n",
      "3539/3539 [==============================] - 5s 1ms/step - loss: 0.0173 - acc: 0.9935 - val_loss: 0.0686 - val_acc: 0.9774\n",
      "Epoch 13/20\n",
      "3539/3539 [==============================] - 5s 1ms/step - loss: 0.0194 - acc: 0.9932 - val_loss: 0.0696 - val_acc: 0.9774\n",
      "Epoch 14/20\n",
      "3539/3539 [==============================] - 5s 1ms/step - loss: 0.0122 - acc: 0.9949 - val_loss: 0.0592 - val_acc: 0.9808\n",
      "Epoch 15/20\n",
      "3539/3539 [==============================] - 5s 1ms/step - loss: 0.0099 - acc: 0.9966 - val_loss: 0.0676 - val_acc: 0.9774\n",
      "Epoch 16/20\n",
      "3539/3539 [==============================] - 5s 1ms/step - loss: 0.0096 - acc: 0.9975 - val_loss: 0.0644 - val_acc: 0.9740\n",
      "Epoch 17/20\n",
      "3539/3539 [==============================] - 5s 1ms/step - loss: 0.0076 - acc: 0.9972 - val_loss: 0.0618 - val_acc: 0.9785\n",
      "Epoch 18/20\n",
      "3539/3539 [==============================] - 5s 1ms/step - loss: 0.0072 - acc: 0.9986 - val_loss: 0.0560 - val_acc: 0.9797\n",
      "Epoch 19/20\n",
      "3539/3539 [==============================] - 5s 1ms/step - loss: 0.0111 - acc: 0.9955 - val_loss: 0.0581 - val_acc: 0.9819\n",
      "Epoch 20/20\n",
      "3539/3539 [==============================] - 5s 1ms/step - loss: 0.0064 - acc: 0.9980 - val_loss: 0.0879 - val_acc: 0.9763\n",
      "_________________________________________________________________\n",
      "Layer (type)                 Output Shape              Param #   \n",
      "=================================================================\n",
      "lstm_1 (LSTM)                (None, 30)                39720     \n",
      "_________________________________________________________________\n",
      "dense_1 (Dense)              (None, 2)                 62        \n",
      "=================================================================\n",
      "Total params: 39,782\n",
      "Trainable params: 39,782\n",
      "Non-trainable params: 0\n",
      "_________________________________________________________________\n",
      "None\n"
     ]
    }
   ],
   "source": [
    "from keras.layers import LSTM, Embedding, Dense\n",
    "from keras.models import Sequential\n",
    "\n",
    "model = Sequential()\n",
    "model.add(LSTM(30, activation='tanh'))\n",
    "model.add(Dense(2, activation = 'sigmoid'))\n",
    "model.compile(loss = 'sparse_categorical_crossentropy', optimizer = 'adam', metrics = ['accuracy'])\n",
    "history = model.fit(X_train, y_train, batch_size = 42, epochs = 20, validation_split = 0.2)\n",
    "# batch_size는 한 번에 학습하는 데이터의 개수\n",
    "\n",
    "print(model.summary())"
   ]
  },
  {
   "cell_type": "code",
   "execution_count": 10,
   "metadata": {},
   "outputs": [
    {
     "name": "stdout",
     "output_type": "stream",
     "text": [
      "              precision    recall  f1-score   support\n",
      "\n",
      "      Flight       0.98      0.99      0.99       955\n",
      "    NoFlight       0.94      0.90      0.92       151\n",
      "\n",
      "    accuracy                           0.98      1106\n",
      "   macro avg       0.96      0.95      0.95      1106\n",
      "weighted avg       0.98      0.98      0.98      1106\n",
      "\n"
     ]
    }
   ],
   "source": [
    "from sklearn.metrics import classification_report\n",
    "from sklearn.metrics import accuracy_score\n",
    "\n",
    "y_true = y_test\n",
    "y_pred = model.predict_classes(X_test, verbose = 0)\n",
    "\n",
    "print(classification_report(y_true, y_pred, target_names = ['Flight', 'NoFlight']))"
   ]
  },
  {
   "cell_type": "code",
   "execution_count": 11,
   "metadata": {},
   "outputs": [],
   "source": [
    "def ans(lst):\n",
    "    ans = [\"Flight\", \"NoFlight\"]\n",
    "    temp = [[i, lst[i]] for i in range(2)]\n",
    "    temp.sort(key = lambda x : x[1], reverse = True)\n",
    "\n",
    "    print(ans[temp[0][0]])"
   ]
  },
  {
   "cell_type": "code",
   "execution_count": 12,
   "metadata": {},
   "outputs": [],
   "source": [
    "from keras.preprocessing import sequence\n",
    "from keras import backend as k\n",
    "_dtype = k.floatx()\n",
    "\n",
    "def predict(sentence) :\n",
    "    sentence = sentence\n",
    "    sentence_token = []\n",
    "    sentence_token += word_tokenize(sentence)\n",
    "    \n",
    "    sentence_vec = []\n",
    "    sentence_vec.append([fasttext[v] for v in sentence_token])\n",
    "    \n",
    "    padd = sequence.pad_sequences(sentence_vec, maxlen = max_len, dtype = _dtype)\n",
    "    intent = ans(model.predict(padd)[0])\n",
    "    \n",
    "    return(intent)"
   ]
  },
  {
   "cell_type": "code",
   "execution_count": 13,
   "metadata": {},
   "outputs": [],
   "source": [
    "from keras.models import *\n",
    "from keras.utils import *\n",
    "\n",
    "model.save('LSTM_model_1.h5')"
   ]
  },
  {
   "cell_type": "code",
   "execution_count": 14,
   "metadata": {},
   "outputs": [
    {
     "name": "stdout",
     "output_type": "stream",
     "text": [
      "Flight\n",
      "NoFlight\n",
      "NoFlight\n",
      "Flight\n",
      "NoFlight\n"
     ]
    }
   ],
   "source": [
    "# 임의 지정한 문장으로 의도 예측 테스트\n",
    "\n",
    "predict('new york arriving denver') # Flight\n",
    "predict('what type of aircraft') # NoFlight\n",
    "predict('all airport') # Noflight\n",
    "predict('from new york to denver one way fare') # Flight\n",
    "predict('what ground transportation is available in denver') # NoFlight"
   ]
  },
  {
   "cell_type": "code",
   "execution_count": null,
   "metadata": {},
   "outputs": [],
   "source": []
  }
 ],
 "metadata": {
  "kernelspec": {
   "display_name": "Python 3",
   "language": "python",
   "name": "python3"
  },
  "language_info": {
   "codemirror_mode": {
    "name": "ipython",
    "version": 3
   },
   "file_extension": ".py",
   "mimetype": "text/x-python",
   "name": "python",
   "nbconvert_exporter": "python",
   "pygments_lexer": "ipython3",
   "version": "3.6.1"
  }
 },
 "nbformat": 4,
 "nbformat_minor": 2
}
