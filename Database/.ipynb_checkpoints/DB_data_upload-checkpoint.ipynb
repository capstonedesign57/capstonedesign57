{
 "cells": [
  {
   "cell_type": "code",
   "execution_count": 1,
   "metadata": {},
   "outputs": [],
   "source": [
    "import urllib\n",
    "import pymysql\n",
    "from urllib.request import urlopen\n",
    "from bs4 import BeautifulSoup"
   ]
  },
  {
   "cell_type": "code",
   "execution_count": 2,
   "metadata": {
    "scrolled": true
   },
   "outputs": [],
   "source": [
    "db = pymysql.connect(\n",
    "    host = 'localhost',\n",
    "    port = 3306,\n",
    "    user = 'root',\n",
    "    passwd = 'password',\n",
    "    db = 'airscope',\n",
    "    charset = 'utf8',\n",
    "    autocommit = True)"
   ]
  },
  {
   "cell_type": "code",
   "execution_count": 3,
   "metadata": {},
   "outputs": [],
   "source": [
    "cursor = db.cursor()"
   ]
  },
  {
   "cell_type": "code",
   "execution_count": 4,
   "metadata": {},
   "outputs": [],
   "source": [
    "import pandas as pd\n",
    "import csv"
   ]
  },
  {
   "cell_type": "code",
   "execution_count": 6,
   "metadata": {},
   "outputs": [],
   "source": [
    "# cursor.execute(\"DELETE FROM table명\")\n",
    "db.commit()"
   ]
  },
  {
   "cell_type": "markdown",
   "metadata": {},
   "source": [
    "# airlines"
   ]
  },
  {
   "cell_type": "code",
   "execution_count": 7,
   "metadata": {},
   "outputs": [],
   "source": [
    "airlines = pd.read_csv('airlines.csv')"
   ]
  },
  {
   "cell_type": "code",
   "execution_count": 8,
   "metadata": {},
   "outputs": [],
   "source": [
    "airlines = airlines[[\"airline_id\", \"name\", \"iata\", \"icao\", \"country\"]]"
   ]
  },
  {
   "cell_type": "code",
   "execution_count": 9,
   "metadata": {},
   "outputs": [
    {
     "data": {
      "text/html": [
       "<div>\n",
       "<style scoped>\n",
       "    .dataframe tbody tr th:only-of-type {\n",
       "        vertical-align: middle;\n",
       "    }\n",
       "\n",
       "    .dataframe tbody tr th {\n",
       "        vertical-align: top;\n",
       "    }\n",
       "\n",
       "    .dataframe thead th {\n",
       "        text-align: right;\n",
       "    }\n",
       "</style>\n",
       "<table border=\"1\" class=\"dataframe\">\n",
       "  <thead>\n",
       "    <tr style=\"text-align: right;\">\n",
       "      <th></th>\n",
       "      <th>airline_id</th>\n",
       "      <th>name</th>\n",
       "      <th>iata</th>\n",
       "      <th>icao</th>\n",
       "      <th>country</th>\n",
       "    </tr>\n",
       "  </thead>\n",
       "  <tbody>\n",
       "    <tr>\n",
       "      <td>0</td>\n",
       "      <td>3</td>\n",
       "      <td>1Time Airline</td>\n",
       "      <td>1T</td>\n",
       "      <td>RNX</td>\n",
       "      <td>South Africa</td>\n",
       "    </tr>\n",
       "    <tr>\n",
       "      <td>1</td>\n",
       "      <td>10</td>\n",
       "      <td>40-Mile Air</td>\n",
       "      <td>Q5</td>\n",
       "      <td>MLA</td>\n",
       "      <td>United States</td>\n",
       "    </tr>\n",
       "    <tr>\n",
       "      <td>2</td>\n",
       "      <td>13</td>\n",
       "      <td>Ansett Australia</td>\n",
       "      <td>AN</td>\n",
       "      <td>AAA</td>\n",
       "      <td>Australia</td>\n",
       "    </tr>\n",
       "    <tr>\n",
       "      <td>3</td>\n",
       "      <td>14</td>\n",
       "      <td>Abacus International</td>\n",
       "      <td>1B</td>\n",
       "      <td>\\N</td>\n",
       "      <td>Singapore</td>\n",
       "    </tr>\n",
       "    <tr>\n",
       "      <td>4</td>\n",
       "      <td>21</td>\n",
       "      <td>Aigle Azur</td>\n",
       "      <td>ZI</td>\n",
       "      <td>AAF</td>\n",
       "      <td>France</td>\n",
       "    </tr>\n",
       "  </tbody>\n",
       "</table>\n",
       "</div>"
      ],
      "text/plain": [
       "   airline_id                  name iata icao        country\n",
       "0           3         1Time Airline   1T  RNX   South Africa\n",
       "1          10           40-Mile Air   Q5  MLA  United States\n",
       "2          13      Ansett Australia   AN  AAA      Australia\n",
       "3          14  Abacus International   1B   \\N      Singapore\n",
       "4          21            Aigle Azur   ZI  AAF         France"
      ]
     },
     "execution_count": 9,
     "metadata": {},
     "output_type": "execute_result"
    }
   ],
   "source": [
    "airlines.head()"
   ]
  },
  {
   "cell_type": "code",
   "execution_count": 11,
   "metadata": {},
   "outputs": [],
   "source": [
    "for i in range(len(airlines)):\n",
    "    cursor.execute(\n",
    "        \"INSERT INTO \\\n",
    "        airlines(airline_id, name, iata, icao, country) \\\n",
    "        VALUES (%s, %s, %s, %s, %s)\", \\\n",
    "        (int(airlines.iloc[i][0]), airlines.iloc[i][1], airlines.iloc[i][2], \\\n",
    "        airlines.iloc[i][3], airlines.iloc[i][4])\n",
    "    )\n",
    "db.commit()"
   ]
  },
  {
   "cell_type": "markdown",
   "metadata": {},
   "source": [
    "# airports"
   ]
  },
  {
   "cell_type": "code",
   "execution_count": 12,
   "metadata": {},
   "outputs": [],
   "source": [
    "airports = pd.read_csv('airports.csv')\n",
    "airports = airports[[\"airport_id\", \"name\", \"city\", \"country\", \"iata\"]]\n",
    "airports = airports.dropna(axis=0)"
   ]
  },
  {
   "cell_type": "code",
   "execution_count": 13,
   "metadata": {},
   "outputs": [],
   "source": [
    "for i in range(len(airports)):\n",
    "    cursor.execute(\n",
    "            \"INSERT INTO \\\n",
    "            airports(airport_id, name, city, country, iata) \\\n",
    "            VALUES (%s,%s,%s,%s,%s)\", \\\n",
    "            (int(airports.iloc[i][0]), airports.iloc[i][1], airports.iloc[i][2], \\\n",
    "            airports.iloc[i][3], airports.iloc[i][4])\n",
    "    )\n",
    "db.commit()"
   ]
  },
  {
   "cell_type": "markdown",
   "metadata": {},
   "source": [
    "# routes"
   ]
  },
  {
   "cell_type": "code",
   "execution_count": 14,
   "metadata": {},
   "outputs": [],
   "source": [
    "routes = pd.read_csv('routes.csv')"
   ]
  },
  {
   "cell_type": "code",
   "execution_count": 15,
   "metadata": {},
   "outputs": [],
   "source": [
    "for i in range(len(routes)):\n",
    "    cursor.execute(\n",
    "        \"INSERT INTO \\\n",
    "        routes(route_id, airline, airline_id, src_airport, src_airport_id, \\\n",
    "        dst_airport, dst_airport_id, stops, dpt_time, est_time) \\\n",
    "        VALUES (%s, %s, %s, %s, %s, %s, %s, %s, %s, %s)\", \\\n",
    "        (int(routes.iloc[i][0]), routes.iloc[i][1], int(routes.iloc[i][2]), \\\n",
    "         routes.iloc[i][3], int(routes.iloc[i][4]), routes.iloc[i][5], \\\n",
    "         int(routes.iloc[i][6]), int(routes.iloc[i][7]), routes.iloc[i][8], \\\n",
    "         routes.iloc[i][9])\n",
    "    )\n",
    "db.commit()"
   ]
  },
  {
   "cell_type": "markdown",
   "metadata": {},
   "source": [
    "# stops"
   ]
  },
  {
   "cell_type": "code",
   "execution_count": 16,
   "metadata": {},
   "outputs": [],
   "source": [
    "stops = pd.read_csv('stops.csv')"
   ]
  },
  {
   "cell_type": "code",
   "execution_count": 17,
   "metadata": {},
   "outputs": [],
   "source": [
    "for i in range(len(stops)):\n",
    "    cursor.execute(\n",
    "        \"INSERT INTO \\\n",
    "        stops(route_id, stop, stop_id, stop_order) \\\n",
    "        VALUES (%s, %s, %s, %s)\", \\\n",
    "        (int(stops.iloc[i][0]), stops.iloc[i][1], int(stops.iloc[i][2]), \\\n",
    "        int(stops.iloc[i][3]))\n",
    "    )\n",
    "db.commit()"
   ]
  },
  {
   "cell_type": "markdown",
   "metadata": {},
   "source": [
    "# cost"
   ]
  },
  {
   "cell_type": "code",
   "execution_count": 18,
   "metadata": {},
   "outputs": [],
   "source": [
    "cost = pd.read_csv('cost.csv')"
   ]
  },
  {
   "cell_type": "code",
   "execution_count": 19,
   "metadata": {},
   "outputs": [],
   "source": [
    "for i in range(len(cost)):\n",
    "    cursor.execute(\n",
    "        \"INSERT INTO \\\n",
    "        cost(route_id, airline_id, cost) \\\n",
    "        VALUES (%s, %s, %s)\", \\\n",
    "        (int(cost.iloc[i][0]), int(cost.iloc[i][1]), int(cost.iloc[i][2]))\n",
    "    )\n",
    "db.commit()"
   ]
  }
 ],
 "metadata": {
  "kernelspec": {
   "display_name": "Airscope",
   "language": "python",
   "name": "airscope"
  },
  "language_info": {
   "codemirror_mode": {
    "name": "ipython",
    "version": 3
   },
   "file_extension": ".py",
   "mimetype": "text/x-python",
   "name": "python",
   "nbconvert_exporter": "python",
   "pygments_lexer": "ipython3",
   "version": "3.7.5"
  }
 },
 "nbformat": 4,
 "nbformat_minor": 2
}
