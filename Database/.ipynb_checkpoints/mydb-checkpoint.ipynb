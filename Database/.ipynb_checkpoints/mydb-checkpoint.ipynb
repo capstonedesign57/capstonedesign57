{
 "cells": [
  {
   "cell_type": "code",
   "execution_count": 4,
   "metadata": {},
   "outputs": [],
   "source": [
    "import pymysql"
   ]
  },
  {
   "cell_type": "code",
   "execution_count": 5,
   "metadata": {},
   "outputs": [],
   "source": [
    "def getdb():\n",
    "    mydb = pymysql.connect(\n",
    "    host = 'localhost',\n",
    "    port = 3306,\n",
    "    user = 'root',\n",
    "    passwd = 'password', # 비밀번호\n",
    "    db = 'airscope', # DB 이름\n",
    "    charset = 'utf8',\n",
    "    autocommit = True)\n",
    "    \n",
    "    return mydb"
   ]
  }
 ],
 "metadata": {
  "kernelspec": {
   "display_name": "Airscope",
   "language": "python",
   "name": "airscope"
  },
  "language_info": {
   "codemirror_mode": {
    "name": "ipython",
    "version": 3
   },
   "file_extension": ".py",
   "mimetype": "text/x-python",
   "name": "python",
   "nbconvert_exporter": "python",
   "pygments_lexer": "ipython3",
   "version": "3.7.5"
  }
 },
 "nbformat": 4,
 "nbformat_minor": 2
}
